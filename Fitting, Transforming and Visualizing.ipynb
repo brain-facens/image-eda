{
 "cells": [
  {
   "cell_type": "code",
   "execution_count": null,
   "metadata": {
    "scrolled": true
   },
   "outputs": [],
   "source": [
    "from image_eda import ImageEDA\n",
    "from data_sources import LocalCsvSource"
   ]
  },
  {
   "cell_type": "code",
   "execution_count": null,
   "outputs": [],
   "source": [
    "data = {'dataset_name': ['dataset_name_01','dataset_name_02','dataset_name_xx'],\n",
    "        'annot_path': ['path/to/annotations_01.csv','path/to/annotations_02.csv','path/to/annotations_xx.csv'],\n",
    "        'image_path': ['path/to/images_01','path/to/images_02','path/to/images_xx'],\n",
    "        'dr_method': ['t-sne','pca','pca']} # t-sne or pca"
   ],
   "metadata": {
    "collapsed": false,
    "pycharm": {
     "name": "#%%\n"
    }
   }
  },
  {
   "cell_type": "code",
   "execution_count": null,
   "outputs": [],
   "source": [
    "image_eda = []\n",
    "for i in range(0,len(data['dataset_name'])):\n",
    "\n",
    "    image_eda.append(ImageEDA(experiment_name=data['dataset_name'][i],\n",
    "                              data_source=LocalCsvSource(data['annot_path'][i],data['image_path'][i], data['dataset_name'][i]),\n",
    "                              dr_method=data['dr_method'][i],\n",
    "                              batch_size=10))\n",
    "    print(image_eda[i])\n",
    "\n",
    "    # Predict\n",
    "    image_eda[i].predict_feature_map()\n",
    "    print(data['dataset_name'][i],'predict done')\n",
    "\n",
    "    # fit\n",
    "    image_eda[i].partial_fit()\n",
    "    print(data['dataset_name'][i],'fit done')\n",
    "\n",
    "    # transform\n",
    "    image_eda[i].transform()\n",
    "    print(data['dataset_name'][i],'transform done')"
   ],
   "metadata": {
    "collapsed": false,
    "pycharm": {
     "name": "#%%\n"
    }
   }
  },
  {
   "cell_type": "code",
   "execution_count": null,
   "outputs": [],
   "source": [
    "# visualize\n",
    "for i in range(0,len(data['dataset_name'])):\n",
    "    image_eda[i].visualize('classes_config.txt')"
   ],
   "metadata": {
    "collapsed": false,
    "pycharm": {
     "name": "#%%\n"
    }
   }
  },
  {
   "cell_type": "code",
   "execution_count": null,
   "metadata": {},
   "outputs": [],
   "source": [
    "# Save model output\n",
    "for i in range(0,len(data['dataset_name'])):\n",
    "    image_eda[i].save_output()"
   ]
  },
  {
   "cell_type": "code",
   "execution_count": null,
   "outputs": [],
   "source": [
    "# Loading from previously analyzed data:\n",
    "image_eda = ImageEDA(\"nexet\", pickle_path=\"dataset_name_vgg16_dr_method_.pickle\")\n",
    "image_eda.visualize(\"classes_config.txt\")"
   ],
   "metadata": {
    "collapsed": false,
    "pycharm": {
     "name": "#%%\n"
    }
   }
  }
 ],
 "metadata": {
  "kernelspec": {
   "display_name": "Python 3",
   "language": "python",
   "name": "python3"
  },
  "language_info": {
   "codemirror_mode": {
    "name": "ipython",
    "version": 3
   },
   "file_extension": ".py",
   "mimetype": "text/x-python",
   "name": "python",
   "nbconvert_exporter": "python",
   "pygments_lexer": "ipython3",
   "version": "3.9.0"
  }
 },
 "nbformat": 4,
 "nbformat_minor": 4
}